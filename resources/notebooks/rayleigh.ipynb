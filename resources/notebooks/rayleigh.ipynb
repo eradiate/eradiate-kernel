{
 "cells": [
  {
   "cell_type": "code",
   "execution_count": null,
   "metadata": {},
   "outputs": [],
   "source": [
    "import numpy as np\n",
    "import scipy.integrate as integrate\n",
    "import attr\n",
    "import matplotlib.pyplot as plt"
   ]
  },
  {
   "cell_type": "markdown",
   "metadata": {},
   "source": [
    "# Helper class used as a reference"
   ],
   "execution_count": null,
   "outputs": []
  },
  {
   "cell_type": "code",
   "execution_count": null,
   "metadata": {},
   "outputs": [],
   "source": [
    "@attr.s\n",
    "class Rayleigh:\n",
    "    delta = attr.ib(default=0.)\n",
    "    ddelta = attr.ib(default=None)\n",
    "    a = attr.ib(default=None)\n",
    "    b = attr.ib(default=None)\n",
    "    normalisation = attr.ib(default=None)\n",
    "    \n",
    "    def __attrs_post_init__(self):\n",
    "        self.init()\n",
    "    \n",
    "    def init(self):\n",
    "        self.ddelta = (1 - self.delta) / (1 + 0.5 * self.delta)\n",
    "        self.a = 3. * self.ddelta / (16. * np.pi)\n",
    "        self.b = (1. - self.ddelta) / (4. * np.pi)\n",
    "        self.normalisation = self.integral()\n",
    "\n",
    "    def eval(self, cos_theta):\n",
    "        if self.delta == 0.:\n",
    "            return self.a * (1. + np.square(cos_theta))\n",
    "        else:\n",
    "            return self.a * (1. + np.square(cos_theta)) + self.b\n",
    "    \n",
    "    def integral(self, bounds=[0, np.pi]):\n",
    "        \"\"\"Compute the integral of Planck's function on the spectral region of interest\"\"\"\n",
    "        return integrate.quad(lambda x: self.eval(x), *bounds)[0]\n",
    "    \n",
    "    def pdf(self, cos_theta):\n",
    "        return self.eval(cos_theta) / self.normalisation\n",
    "    \n",
    "    def cdf(self, cos_theta):\n",
    "        \"\"\"Return the cumulative distribution function for spectral values passed as the argument\"\"\"\n",
    "        cdf = integrate.cumtrapz(y=self.pdf(cos_theta), x=cos_theta, initial=0.)\n",
    "        return cdf / cdf[-1] # We don't forget to normalise to 1\n",
    ""
   ]
  },
  {
   "cell_type": "code",
   "execution_count": null,
   "metadata": {},
   "outputs": [],
   "source": [
    "# Plot phase function pdf\n",
    "x = np.linspace(-1, 1, 51)\n",
    "\n",
    "plt.figure(figsize=(5,5))\n",
    "for delta in np.linspace(0, 0.5, 11):\n",
    "    plt.plot(x, Rayleigh(delta).pdf(x), label=f\"{delta:0.2f}\")\n",
    "bottom, top = plt.ylim()\n",
    "plt.ylim(-0.01, top)\n",
    "plt.xlabel(r\"cos $\\theta$\")\n",
    "plt.title(\"Rayleigh phase function PDF\")\n",
    "plt.legend(loc=\"best\", ncol=4, title=\"$\\delta$\")\n",
    "plt.savefig(\"rayleigh_pdf.png\")\n",
    "plt.show()\n",
    "plt.close()"
   ]
  },
  {
   "cell_type": "code",
   "execution_count": null,
   "metadata": {},
   "outputs": [],
   "source": [
    "# Plot phase function CDF\n",
    "x = np.linspace(-1, 1, 51)\n",
    "\n",
    "plt.figure(figsize=(5, 5))\n",
    "for delta in np.linspace(0, 0.5, 11):\n",
    "    plt.plot(x, Rayleigh(delta).cdf(x), label=f\"{delta:0.2f}\")\n",
    "plt.xlabel(r\"cos $\\theta$\")\n",
    "plt.title(\"Rayleigh phase function CDF\")\n",
    "plt.legend(loc=\"lower right\", ncol=2, title=\"$\\delta$\")\n",
    "plt.savefig(\"rayleigh_cdf.png\")\n",
    "plt.show()\n",
    "plt.close()"
   ]
  },
  {
   "cell_type": "markdown",
   "metadata": {},
   "source": [
    "# Mitsuba plugin check"
   ],
   "execution_count": null,
   "outputs": []
  },
  {
   "cell_type": "code",
   "execution_count": null,
   "metadata": {},
   "outputs": [],
   "source": [
    "# Basic definitions\n",
    "import mitsuba\n",
    "import enoki as ek\n",
    "mitsuba.set_variant(\"scalar_rgb\")\n",
    "\n",
    "from mitsuba.render import MediumInteraction3f, PhaseFunctionContext\n",
    "from mitsuba.core import Frame3f\n",
    "\n",
    "wi = [0, 0, 1]\n",
    "\n",
    "def make_context(n):\n",
    "    mi = MediumInteraction3f.zero(n)\n",
    "    mi.wi = wi\n",
    "    ek.set_slices(mi.wi, n)\n",
    "    mi.sh_frame = Frame3f(-mi.wi)\n",
    "    mi.wavelengths = []\n",
    "    ctx = PhaseFunctionContext(None)\n",
    "    return mi, ctx\n",
    "\n",
    "def eval_pdf_mitsuba(phase, cos_thetas):\n",
    "    mi, ctx = make_context(1)\n",
    "    return np.array([phase.eval(ctx, mi, angles_to_vector(cos_theta, 0.))\n",
    "                     for cos_theta in cos_thetas])"
   ]
  },
  {
   "cell_type": "code",
   "execution_count": null,
   "metadata": {},
   "outputs": [],
   "source": [
    "import numpy as np\n",
    "from mitsuba.core import Vector3f\n",
    "\n",
    "def angles_to_vector(cos_theta, phi):\n",
    "    sin_theta = np.sqrt(1.0 - cos_theta * cos_theta)\n",
    "    sin_phi, cos_phi = np.sin(phi), np.cos(phi)\n",
    "    return Vector3f(sin_theta * cos_phi, sin_theta * sin_phi, cos_theta)\n",
    "\n",
    "for cos_theta, phi in [(1., 0.), (0., 0.), (-1., 0)]:\n",
    "    print(f\"angles_to_vector({cos_theta}, {phi}) = \"\n",
    "          f\"{angles_to_vector(cos_theta, phi)}\")"
   ]
  },
  {
   "cell_type": "code",
   "execution_count": null,
   "metadata": {},
   "outputs": [],
   "source": [
    "from mitsuba.core.xml import load_string\n",
    "\n",
    "delta = 0.25\n",
    "r = Rayleigh(delta)\n",
    "p = load_string(f\"\"\"\n",
    "    <phase version=\"2.0.0\" type=\"rayleigh\">\n",
    "        <float name=\"delta\" value=\"{delta}\"/>\n",
    "    </phase>\n",
    "\"\"\")\n",
    "\n",
    "print(attr.asdict(r))\n",
    "print(p)\n",
    "\n",
    "cos_thetas = np.linspace(-1, 1, 51)\n",
    "rayleigh_values_mitsuba = eval_pdf_mitsuba(p, cos_thetas)\n",
    "rayleigh_values_reference = r.eval(cos_thetas)\n",
    "\n",
    "for cos_theta, rayleigh_value_mitsuba, rayleigh_value_reference \\\n",
    "        in zip(cos_thetas, rayleigh_values_mitsuba, rayleigh_values_reference):\n",
    "    print(f\"{cos_theta:0.2f} | {rayleigh_value_mitsuba:0.4f} | {rayleigh_value_reference:0.4f}\")"
   ]
  },
  {
   "cell_type": "code",
   "execution_count": null,
   "metadata": {},
   "outputs": [],
   "source": [
    "import matplotlib.pyplot as plt\n",
    "\n",
    "plt.figure(figsize=(5, 5))\n",
    "plt.plot(cos_thetas, rayleigh_values_reference, label=\"Reference\")\n",
    "plt.plot(cos_thetas, rayleigh_values_mitsuba, linestyle=\"none\", marker=\"o\", label=\"Mitsuba\")\n",
    "plt.xlabel(r\"cos $\\theta$\")\n",
    "plt.title(\"Rayleigh phase function PDF ($\\delta = 0$)\")\n",
    "plt.legend(loc=\"best\", ncol=2)\n",
    "plt.show()"
   ]
  },
  {
   "cell_type": "code",
   "execution_count": null,
   "metadata": {},
   "outputs": [],
   "source": []
  }
 ],
 "metadata": {
  "kernelspec": {
   "display_name": "Python 3",
   "language": "python",
   "name": "python3"
  },
  "language_info": {
   "codemirror_mode": {
    "name": "ipython",
    "version": 3
   },
   "file_extension": ".py",
   "mimetype": "text/x-python",
   "name": "python",
   "nbconvert_exporter": "python",
   "pygments_lexer": "ipython3",
   "version": "3.7.7-final"
  }
 },
 "nbformat": 4,
 "nbformat_minor": 4
}